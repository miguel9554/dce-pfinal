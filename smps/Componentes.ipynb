{
 "cells": [
  {
   "cell_type": "markdown",
   "metadata": {},
   "source": [
    "# Inductor\n",
    "\n",
    "La inductancia del inductor va a determinar cual es la mínima corriente con la que la fuente va a operar en modo continuo.\n",
    "El mínimo valor de corriente de salida con el que la fuente operará en modo continuo es\n",
    "\n",
    "$$I_{O(crit)} = \\frac{\\Delta I_L}{2}$$\n",
    "\n",
    "El valor de $I_{O(crit)}$ queda determinado por los requerimientos de la fuente. En nuestro caso, la carga es pulsada, por lo que la corriente es cero durante ciertos intervalos. Habría que elegir un valor a partir del cual la fuente deja de funcionar en modo continuo.\n",
    "\n",
    "Una vez elegido el valor de $I_{O(crit)}$, hay que elegir el valor de $L$ de manera tal que para corrientes mayores a $I_{O(crit)}$, la fuente funcione en modo continuo. Substituyendo la expresión de $\\Delta I_L$ y despejando, se llega a \n",
    "\n",
    "$$ L \\geq \\frac{V_o \\left( 1- \\frac{V_o}{V_{I(max)}}\\right)T_S}{2 I_{O(crit)}}$$\n",
    "\n",
    "Entonces, para calcular la inductancia mínima, necesitamos conocer\n",
    "\n",
    "- $V_o$: La tensión de salida, queda determinada por los requisitos de la fuente.\n",
    "- $V_{I(max)}$: La máxima tensión de entrada, queda determinada por los requisitos.\n",
    "- $T_S$: El período de conmutación de la fuente. Si se trabaja con un integrado que implementa el control, es un parámetro dado.\n",
    "- $I_{O(crit)}$: El valor de corriente que marca la frontera entre el modo de trabajo continuo y discontinuo. Es un parámetro de diseño que tiene que ser tomado en base a la carga.\n",
    "\n",
    "## Cuenta alternativa\n",
    "\n",
    "Lo que fija la ecuación de L es el valor de corriente de ripple $\\Delta L$. Esta es \n",
    "\n",
    "$$ \\Delta L = \\frac{V_o \\left( 1- \\frac{V_o}{V_{I(max)}}\\right)T_S}{L}$$\n",
    "\n",
    "En lugar de fijar un valor $I_{O(crit)}$, podemos fijar $\\Delta L$ con otro criterio. Por ejemplo, determinando la corriente máxima $I_{O(max)}$ y fijando el ripple de corriente como un porcentaje de esta corriente maxima. Entonces,\n",
    "\n",
    "$$\\Delta L = F \\cdot I_{O(max)}$$\n",
    "\n",
    "Con $F$ un factor entre $0$ y $1$. Con estos parámetros, la inductancia debe cumplir\n",
    "\n",
    "$$ L \\geq \\frac{V_o \\left( 1- \\frac{V_o}{V_{I(max)}}\\right)T_S}{F \\cdot I_{O(max)}}$$\n",
    "\n",
    "## Cuenta con volt segundo\n",
    "\n",
    "Otra forma de calcular es con los volt segundo $Et = V \\cdot \\Delta t = L \\cdot \\Delta I$ (ver AN de TI AN-1197, o snva038b)"
   ]
  },
  {
   "cell_type": "markdown",
   "metadata": {},
   "source": [
    "## Calculo de inductancia con $I_{O(crit)}$"
   ]
  },
  {
   "cell_type": "code",
   "execution_count": 2,
   "metadata": {},
   "outputs": [
    {
     "name": "stdout",
     "output_type": "stream",
     "text": [
      "L mínima: 164.84u\n",
      "delta I: 1\n",
      "Ts: 19.23u\n"
     ]
    }
   ],
   "source": [
    "from engineering_notation import EngNumber\n",
    "# Las fuentes de la facultad nunca entregan más de 30, pero para seguridad fijamos 35.\n",
    "# De ser necesario, puede bajarse\n",
    "V_I_max = 35\n",
    "# La tensión de salida. Este valor junto a la relación valor medio-valor pico de la señal de entrada determina la\n",
    "# eficiencia de la fuente, así que puede variar.\n",
    "Vo = 20\n",
    "# Sacado de la hoja de datos del LM2576. Funciona con un oscilador de 52 kHz\n",
    "Fs = 52e3\n",
    "Ts = 1/Fs\n",
    "# Valor de diseño. Con Vo = 20, la carga consume hasta 1.6 A.\n",
    "I_O_crit = 500e-3\n",
    "\n",
    "L_min = Vo*(1-(Vo/V_I_max))*Ts/(2*I_O_crit)\n",
    "print(\n",
    "    f'L mínima: {EngNumber(L_min)}\\n'\n",
    "    f'delta I: {EngNumber(2*I_O_crit)}\\n'\n",
    "    f'Ts: {EngNumber(Ts)}'\n",
    ")"
   ]
  },
  {
   "cell_type": "markdown",
   "metadata": {},
   "source": [
    "Con un capacitor grande (1,5 mili), no funcionaba. Bajando ese capacitor, Vo queda en el valor correcto.\n",
    "\n",
    "- De todas formas, la corriente en el inductor llega a cero para corrientes de carga de hasta 2 A.\n",
    "- Con 400 u (el doble), parece estar en el límite de continuidad para 2 A.\n",
    "- Con 1 mH, la corriente es continua para 2 A.\n",
    "\n",
    "Probablemente esté mal el valor de $T_S$"
   ]
  },
  {
   "cell_type": "markdown",
   "metadata": {},
   "source": [
    "## Calculo de inductancia con $I_{O(max)}$"
   ]
  },
  {
   "cell_type": "code",
   "execution_count": 30,
   "metadata": {},
   "outputs": [
    {
     "name": "stdout",
     "output_type": "stream",
     "text": [
      "L mínima: 357.14u\n",
      "delta I: 500m\n",
      "Ts: 20.83u\n"
     ]
    }
   ],
   "source": [
    "# Las fuentes de la facultad nunca entregan más de 30, pero para seguridad fijamos 35.\n",
    "# De ser necesario, puede bajarse\n",
    "V_I_max = 35\n",
    "# La tensión de salida. Este valor junto a la relación valor medio-valor pico de la señal de entrada determina la\n",
    "# eficiencia de la fuente, así que puede variar.\n",
    "Vo = 20\n",
    "# Sacado de la hoja de datos del LM2576. Funciona con un oscilador de 52 kHz\n",
    "Fs = 52e3\n",
    "Ts = 1/Fs\n",
    "# Valor de diseño. Con Vo = 20, VER HASTA CUANTO ENTREGAN LAS FUENTES INTERIORES\n",
    "I_O_max = 1\n",
    "# Factor, que porcentaje de la corriente máxima queremos de ripple\n",
    "# Como límite máximo, tiene que ser tal que la corriente máxima más el ripple no superen 3A (límite del LM2576)\n",
    "F = 0.5\n",
    "\n",
    "L_min = Vo*(1-(Vo/V_I_max))*Ts/(F*I_O_max)\n",
    "print(\n",
    "    f'L mínima: {EngNumber(L_min)}\\n'\n",
    "    f'delta I: {EngNumber(F*I_O_max)}\\n'\n",
    "    f'Ts: {EngNumber(Ts)}'\n",
    ")"
   ]
  },
  {
   "cell_type": "markdown",
   "metadata": {},
   "source": [
    "## Cálculo de parámetros a partir de $L$"
   ]
  },
  {
   "cell_type": "code",
   "execution_count": 3,
   "metadata": {},
   "outputs": [
    {
     "name": "stdout",
     "output_type": "stream",
     "text": [
      "L: 200u\n",
      "delta I: 721.15m\n",
      "Ts: 19.23u\n"
     ]
    }
   ],
   "source": [
    "# Las fuentes de la facultad nunca entregan más de 30, pero para seguridad fijamos 35.\n",
    "# De ser necesario, puede bajarse\n",
    "V_I_max = 30\n",
    "# La tensión de salida. Este valor junto a la relación valor medio-valor pico de la señal de entrada determina la\n",
    "# eficiencia de la fuente, así que puede variar.\n",
    "Vo = 15\n",
    "# Sacado de la hoja de datos del LM2576. Funciona con un oscilador de 52 kHz\n",
    "Fs = 52e3\n",
    "Ts = 1/Fs\n",
    "L = 200e-6\n",
    "\n",
    "delta_I = Vo*(1-(Vo/V_I_max))*Ts/(L)\n",
    "\n",
    "print(\n",
    "    f'L: {EngNumber(L)}\\n'\n",
    "    f'delta I: {EngNumber(delta_I)}\\n'\n",
    "    f'Ts: {EngNumber(Ts)}'\n",
    ")"
   ]
  },
  {
   "cell_type": "markdown",
   "metadata": {},
   "source": [
    "Algunos disponibles comercialmente\n",
    "\n",
    "- https://www.elemon.com.ar/BuscarSubRubros.aspx?Action=2&GrupoId=FI&RubroId=153&SubRubroId=1 (TC-501M-3A-8026)\n",
    "- https://articulo.mercadolibre.com.ar/MLA-820156095-bobina-inductor-100uh-3a-pack-x5-2gtech-_JM\n",
    "\n",
    "Otra opción, comprar un núcleo y bobinarlo. Da más seguridad en cuanto a las propiedas magnéticas, los inductores encontrados no dan especificaciones sobre corriente/campo de saturación, simplemente hablan de corriente RMS máxima.\n",
    "\n",
    "- https://www.elemon.com.ar/CotizarRubroVisual.aspx?GrupoId=FE&RubroId=4511\n",
    "- https://www.elemon.com.ar/CotizarRubroVisual.aspx?GrupoId=FE&RubroId=4512\n"
   ]
  },
  {
   "cell_type": "markdown",
   "metadata": {},
   "source": [
    "# Capacitor de salida\n",
    "\n",
    "El capacitor de salida y el inductor determinan los polos del regulador, por lo que sus valores son importantes para la estabilidad. Según la hoja de datos del LM2576, para que el regulador funcione establemente, su valor debe cumplir\n",
    "\n",
    "$$C \\geq 13300 \\ \\frac{V_{IN(max)}}{V_{OUT(min)} \\cdot L(uH)} (uF) $$\n",
    "\n",
    "Para tener un ripple y respuesta transitoria aceptable, el capacitor debería ser varias veces mayor al resultado de la cuenta"
   ]
  },
  {
   "cell_type": "code",
   "execution_count": 47,
   "metadata": {},
   "outputs": [
    {
     "name": "stdout",
     "output_type": "stream",
     "text": [
      "C_min: 66.50u\n"
     ]
    }
   ],
   "source": [
    "V_IN_max = 30\n",
    "V_OUT_min = 15\n",
    "L_uh = 400\n",
    "\n",
    "C_min = 13300*V_IN_max/(V_OUT_min*L_uh)*1e-6\n",
    "\n",
    "print(f'C_min: {EngNumber(C_min)}')"
   ]
  },
  {
   "cell_type": "markdown",
   "metadata": {},
   "source": [
    "Otra forma de calcular, es en base al máximo ripple de salida que admitimos\n",
    "\n",
    "$$ C_{OUT(min)} = \\frac{\\Delta I_L}{8 \\cdot f_s \\cdot \\Delta V_{OUT}}$$ "
   ]
  },
  {
   "cell_type": "markdown",
   "metadata": {},
   "source": [
    "Otra forma, es en base a la tensión máxima de overshoot $V_{OS}$ que admitimos para un transitorio de un salto de corriente $\\Delta I_{OUT}$\n",
    "\n",
    "$$ C_{OUT(min)} = \\frac{\\Delta I_{OUT}^2 \\cdot L}{2 \\cdot V_{OUT} \\cdot \\Delta V_{OS}}$$ "
   ]
  },
  {
   "cell_type": "markdown",
   "metadata": {},
   "source": [
    "## ESR\n",
    "\n",
    "La resistencia equivalente serie del capacitor de salida pone un cero, que puede hacer inestable al sistema. Esto puede verse en la simulación de LTspice, una ESR menor a 0.1 vuelve inestable al sistema."
   ]
  },
  {
   "cell_type": "markdown",
   "metadata": {},
   "source": [
    "Algunos disponibles comercialmente\n",
    "\n",
    "- https://www.microelectronicash.com/ce105-1000x63sr--det--CE105-1000X63SR\n",
    "- https://www.microelectronicash.com/ce105-2200x63sr--det--CE105-2200X63SR"
   ]
  },
  {
   "cell_type": "markdown",
   "metadata": {},
   "source": [
    "# Capacitor de entrada\n",
    "\n",
    "Según la hoja de datos del LM2576, con un capacitor electrolítico de aluminio de 100 uF es suficiente"
   ]
  },
  {
   "cell_type": "markdown",
   "metadata": {},
   "source": [
    "Algunos disponibles comercialmente\n",
    "- https://www.microelectronicash.com/ce100x50--det--CE100X50\n",
    "- https://www.microelectronicash.com/ce105-100x63--det--CE105-100X63 (DxL 8x11)"
   ]
  },
  {
   "cell_type": "markdown",
   "metadata": {},
   "source": [
    "# Pote\n",
    "\n",
    "- https://www.microelectronicash.com/3296w104--det--3296W104"
   ]
  },
  {
   "cell_type": "markdown",
   "metadata": {},
   "source": [
    "# Diodo\n",
    "\n",
    "Simplemente tiene que cumplir con los requisitos de disipación\n",
    "\n",
    "- https://www.microelectronicash.com/1n5822--det--1N5822\n"
   ]
  },
  {
   "cell_type": "markdown",
   "metadata": {},
   "source": [
    "# Red de compensación (para LM2577)\n",
    "\n",
    "Según la hoja de datos del LM2577, la resistencia de compensación $R_C$ tiene que cumplir\n",
    "\n",
    "$$ R_c \\leq \\frac{750 \\cdot I_{LOAD(max)} \\cdot V_{OUT}^2}{V_{IN(min)^2}} $$\n",
    "\n",
    "Además, $R_C$ no debe superar $3 \\ k\\Omega$\n",
    "\n",
    "$C_{OUT}$ tiene que cumplir unas condiciones que supongo son válidas para un regulador boost (el nuestro es buck)\n",
    "\n",
    "El capacitor de compensación $C_C$ tiene un valor mínimo\n",
    "\n",
    "$$ C_c \\geq \\frac{58.5 \\cdot V_{OUT}^2 \\cdot C_{OUT}}{R_C^2 \\cdot V_{IN(min)}} $$\n",
    "\n",
    "Además, para que funcione la función de _soft-start_, tiene que ser $C_C \\geq 0.22 \\ uF$"
   ]
  },
  {
   "cell_type": "code",
   "execution_count": 6,
   "metadata": {},
   "outputs": [
    {
     "name": "stdout",
     "output_type": "stream",
     "text": [
      "Máximo valor de Rc: 1.12kMínimo valor de Cc: 1.39u\n"
     ]
    }
   ],
   "source": [
    "Vout = 15\n",
    "Vin = 15\n",
    "IL = 1.5\n",
    "Cout = 2e-3\n",
    "\n",
    "RC_max = 750*IL*Vout**2/Vin**2\n",
    "CC_min = 58.5*Vout**2*Cout/(RC_max**2*Vin)\n",
    "\n",
    "print(\n",
    "    f'Máximo valor de Rc: {EngNumber(RC_max)}'\n",
    "    f'Mínimo valor de Cc: {EngNumber(CC_min)}'\n",
    ")"
   ]
  }
 ],
 "metadata": {
  "kernelspec": {
   "display_name": "Python 3",
   "language": "python",
   "name": "python3"
  },
  "language_info": {
   "codemirror_mode": {
    "name": "ipython",
    "version": 3
   },
   "file_extension": ".py",
   "mimetype": "text/x-python",
   "name": "python",
   "nbconvert_exporter": "python",
   "pygments_lexer": "ipython3",
   "version": "3.9.1"
  }
 },
 "nbformat": 4,
 "nbformat_minor": 4
}
