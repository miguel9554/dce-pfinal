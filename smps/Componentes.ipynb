{
 "cells": [
  {
   "cell_type": "markdown",
   "metadata": {},
   "source": [
    "## Inductor\n",
    "\n",
    "La inductancia del inductor va a determinar cual es la mínima corriente con la que la fuente va a operar en modo continuo.\n",
    "El mínimo valor de corriente de salida con el que la fuente operará en modo continuo es\n",
    "\n",
    "$$I_{O(crit)} = \\frac{\\Delta I_L}{2}$$\n",
    "\n",
    "El valor de $I_{O(crit)}$ queda determinado por los requerimientos de la fuente. En nuestro caso, la carga es pulsada, por lo que la corriente es cero durante ciertos intervalos. Habría que elegir un valor a partir del cual la fuente deja de funcionar en modo continuo.\n",
    "\n",
    "Una vez elegido el valor de $I_{O(crit)}$, hay que elegir el valor de $L$ de manera tal que para corrientes mayores a $I_{O(crit)}$, la fuente funcione en modo continuo. Substituyendo la expresión de $\\Delta I_L$ y despejando, se llega a \n",
    "\n",
    "$$ L_{min} \\geq \\frac{V_o \\left( 1- \\frac{V_o}{V_{I(max)}}\\right)T_S}{2 I_{O(crit)}}$$\n",
    "\n",
    "Entonces, para calcular la inductancia mínima, necesitamos conocer\n",
    "\n",
    "- $V_o$: La tensión de salida, queda determinada por los requisitos de la fuente.\n",
    "- $V_{I(max)}$: La máxima tensión de entrada, queda determinada por los requisitos.\n",
    "- $T_S$: El período de conmutación de la fuente. Si se trabaja con un integrado que implementa el control, es un parámetro dado.\n",
    "- $I_{O(crit)}$: El valor de corriente que marca la frontera entre el modo de trabajo continuo y discontinuo. Es un parámetro de diseño que tiene que ser tomado en base a la carga.\n",
    "\n"
   ]
  },
  {
   "cell_type": "code",
   "execution_count": 15,
   "metadata": {},
   "outputs": [],
   "source": [
    "# Las fuentes de la facultad nunca entregan más de 30, pero para seguridad fijamos 35.\n",
    "# De ser necesario, puede bajarse\n",
    "V_I_max = 35\n",
    "# La tensión de salida. Este valor junto a la relación valor medio-valor pico de la señal de entrada determina la\n",
    "# eficiencia de la fuente, así que puede variar.\n",
    "Vo = 20\n",
    "# Sacado de la hoja de datos del LM2576. Funciona con un oscilador de 52 kHz\n",
    "Fs = 42e3\n",
    "Ts = 1/Fs\n",
    "# Valor de diseño. Con Vo = 20, la carga consume hasta 1.6 A.\n",
    "I_O_crit = 500e-3"
   ]
  },
  {
   "cell_type": "code",
   "execution_count": 16,
   "metadata": {},
   "outputs": [
    {
     "name": "stdout",
     "output_type": "stream",
     "text": [
      "L mínima: 2.041E-04\n"
     ]
    }
   ],
   "source": [
    "L_min = Vo*(1-(Vo/V_I_max))*Ts/(2*I_O_crit)\n",
    "print(f'L mínima: {L_min:.3E}')"
   ]
  },
  {
   "cell_type": "markdown",
   "metadata": {},
   "source": [
    "Con un capacitor grande (1,5 mili), no funcionaba. Bajando ese capacitor, Vo queda en el valor correcto.\n",
    "\n",
    "- De todas formas, la corriente en el inductor llega a cero para corrientes de carga de hasta 2 A.\n",
    "- Con 400 u (el doble), parece estar en el límite de continuidad para 2 A.\n",
    "- Con 1 mH, la corriente es continua para 2 A.\n",
    "\n",
    "Probablemente esté mal el valor de $T_S$"
   ]
  },
  {
   "cell_type": "markdown",
   "metadata": {},
   "source": [
    "Algunos disponibles comercialmente\n",
    "\n",
    "- https://www.elemon.com.ar/Cotizar.aspx (TC-501M-3A-8026)\n",
    "\n"
   ]
  },
  {
   "cell_type": "markdown",
   "metadata": {},
   "source": [
    "## Capacitor de salida\n",
    "\n",
    "- https://www.microelectronicash.com/ce105-1000x63sr--det--CE105-1000X63SR\n",
    "- https://www.microelectronicash.com/ce105-2200x63sr--det--CE105-2200X63SR"
   ]
  },
  {
   "cell_type": "markdown",
   "metadata": {},
   "source": [
    "## Capacitor de entrada\n"
   ]
  },
  {
   "cell_type": "markdown",
   "metadata": {},
   "source": [
    "## Pote\n",
    "\n",
    "- https://www.microelectronicash.com/potenciometros-16mm-de-carbon--prod--F0001--view--grilla-0"
   ]
  },
  {
   "cell_type": "markdown",
   "metadata": {},
   "source": [
    "## Diodo\n",
    "\n",
    "- https://www.microelectronicash.com/1n5822--det--1N5822\n"
   ]
  }
 ],
 "metadata": {
  "kernelspec": {
   "display_name": "Python 3",
   "language": "python",
   "name": "python3"
  },
  "language_info": {
   "codemirror_mode": {
    "name": "ipython",
    "version": 3
   },
   "file_extension": ".py",
   "mimetype": "text/x-python",
   "name": "python",
   "nbconvert_exporter": "python",
   "pygments_lexer": "ipython3",
   "version": "3.8.6"
  }
 },
 "nbformat": 4,
 "nbformat_minor": 4
}
